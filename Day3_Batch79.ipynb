{
 "cells": [
  {
   "cell_type": "code",
   "execution_count": 2,
   "id": "6385a95e",
   "metadata": {},
   "outputs": [],
   "source": [
    "firstname=\"anil\"\n",
    "lastname=\"tuta\""
   ]
  },
  {
   "cell_type": "code",
   "execution_count": null,
   "id": "38ed5ff2",
   "metadata": {},
   "outputs": [],
   "source": [
    "f string"
   ]
  },
  {
   "cell_type": "code",
   "execution_count": 5,
   "id": "47c3560f",
   "metadata": {},
   "outputs": [
    {
     "name": "stdout",
     "output_type": "stream",
     "text": [
      " anil tuta\n"
     ]
    }
   ],
   "source": [
    "fullname=f\" {firstname} {lastname}\"\n",
    "print(fullname)"
   ]
  },
  {
   "cell_type": "code",
   "execution_count": 7,
   "id": "957e7ebb",
   "metadata": {},
   "outputs": [
    {
     "name": "stdout",
     "output_type": "stream",
     "text": [
      "keep up the good work Anil Tuta\n"
     ]
    }
   ],
   "source": [
    "message =f\"keep up the good work{fullname.title()}\"\n",
    "print(message)"
   ]
  },
  {
   "cell_type": "code",
   "execution_count": null,
   "id": "2527e2cc",
   "metadata": {},
   "outputs": [],
   "source": [
    "adding the white spaces to string\n",
    "\n",
    "New Line Delimitter"
   ]
  },
  {
   "cell_type": "code",
   "execution_count": 8,
   "id": "24691c5a",
   "metadata": {},
   "outputs": [
    {
     "name": "stdout",
     "output_type": "stream",
     "text": [
      "fav_lang:pythoncc++javajavascript\n"
     ]
    }
   ],
   "source": [
    "print(\"fav_lang:pythoncc++javajavascript\")"
   ]
  },
  {
   "cell_type": "code",
   "execution_count": 10,
   "id": "d7dcd079",
   "metadata": {},
   "outputs": [
    {
     "name": "stdout",
     "output_type": "stream",
     "text": [
      "fav_lang:\n",
      "python\n",
      "c\n",
      "c++\n",
      "java\n",
      "javascript\n"
     ]
    }
   ],
   "source": [
    "print(\"fav_lang:\\npython\\nc\\nc++\\njava\\njavascript\")"
   ]
  },
  {
   "cell_type": "code",
   "execution_count": null,
   "id": "aca3240e",
   "metadata": {},
   "outputs": [],
   "source": []
  },
  {
   "cell_type": "code",
   "execution_count": null,
   "id": "3a7911a4",
   "metadata": {},
   "outputs": [],
   "source": [
    "Tab Delimitter"
   ]
  },
  {
   "cell_type": "code",
   "execution_count": 11,
   "id": "4c554a3b",
   "metadata": {},
   "outputs": [
    {
     "name": "stdout",
     "output_type": "stream",
     "text": [
      "fav_lang:\n",
      "\tpython\n",
      "\tc\n",
      "\tc++\n",
      "\tjava\n",
      "\tjavascript\n"
     ]
    }
   ],
   "source": [
    "print(\"fav_lang:\\n\\tpython\\n\\tc\\n\\tc++\\n\\tjava\\n\\tjavascript\")"
   ]
  },
  {
   "cell_type": "code",
   "execution_count": null,
   "id": "433f035a",
   "metadata": {},
   "outputs": [],
   "source": [
    "Removing white space from string"
   ]
  },
  {
   "cell_type": "code",
   "execution_count": 12,
   "id": "efde6c0f",
   "metadata": {},
   "outputs": [
    {
     "name": "stdout",
     "output_type": "stream",
     "text": [
      "python\n"
     ]
    }
   ],
   "source": [
    "language =\" python\"\n",
    "print(language.lstrip())"
   ]
  },
  {
   "cell_type": "code",
   "execution_count": 13,
   "id": "30a40e3e",
   "metadata": {},
   "outputs": [
    {
     "name": "stdout",
     "output_type": "stream",
     "text": [
      "python\n"
     ]
    }
   ],
   "source": [
    "language2=\"python \"\n",
    "print(language2.rstrip())"
   ]
  },
  {
   "cell_type": "code",
   "execution_count": 15,
   "id": "b7fc6961",
   "metadata": {},
   "outputs": [
    {
     "name": "stdout",
     "output_type": "stream",
     "text": [
      "python\n"
     ]
    }
   ],
   "source": [
    "language3=\"  python  \"\n",
    "print(language3.strip())"
   ]
  },
  {
   "cell_type": "code",
   "execution_count": null,
   "id": "13954660",
   "metadata": {},
   "outputs": [],
   "source": []
  }
 ],
 "metadata": {
  "kernelspec": {
   "display_name": "Python 3 (ipykernel)",
   "language": "python",
   "name": "python3"
  },
  "language_info": {
   "codemirror_mode": {
    "name": "ipython",
    "version": 3
   },
   "file_extension": ".py",
   "mimetype": "text/x-python",
   "name": "python",
   "nbconvert_exporter": "python",
   "pygments_lexer": "ipython3",
   "version": "3.10.9"
  }
 },
 "nbformat": 4,
 "nbformat_minor": 5
}
