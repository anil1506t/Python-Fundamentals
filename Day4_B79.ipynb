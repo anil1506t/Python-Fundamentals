{
 "cells": [
  {
   "cell_type": "code",
   "execution_count": null,
   "id": "088463fe",
   "metadata": {},
   "outputs": [],
   "source": [
    "Indraduction to List datatype :"
   ]
  },
  {
   "cell_type": "code",
   "execution_count": 5,
   "id": "89d46760",
   "metadata": {},
   "outputs": [],
   "source": [
    "students = ['anil','rohan','kareem','mohan']"
   ]
  },
  {
   "cell_type": "code",
   "execution_count": 8,
   "id": "022b8698",
   "metadata": {},
   "outputs": [
    {
     "name": "stdout",
     "output_type": "stream",
     "text": [
      "['anil', 'rohan', 'kareem', 'mohan']\n"
     ]
    }
   ],
   "source": [
    "print(students )"
   ]
  },
  {
   "cell_type": "code",
   "execution_count": 9,
   "id": "0c3a41b7",
   "metadata": {},
   "outputs": [
    {
     "data": {
      "text/plain": [
       "list"
      ]
     },
     "execution_count": 9,
     "metadata": {},
     "output_type": "execute_result"
    }
   ],
   "source": [
    "type(students)"
   ]
  },
  {
   "cell_type": "code",
   "execution_count": null,
   "id": "ad72b0f8",
   "metadata": {},
   "outputs": [],
   "source": [
    "Indraduction to Indexing"
   ]
  },
  {
   "cell_type": "code",
   "execution_count": null,
   "id": "4ed29fb9",
   "metadata": {},
   "outputs": [],
   "source": []
  },
  {
   "cell_type": "code",
   "execution_count": null,
   "id": "53db5ce6",
   "metadata": {},
   "outputs": [],
   "source": [
    "# i want to access rohan name on the output...?"
   ]
  },
  {
   "cell_type": "code",
   "execution_count": 10,
   "id": "a645267a",
   "metadata": {},
   "outputs": [
    {
     "name": "stdout",
     "output_type": "stream",
     "text": [
      "rohan\n"
     ]
    }
   ],
   "source": [
    "print(students[1])"
   ]
  },
  {
   "cell_type": "code",
   "execution_count": 12,
   "id": "deebde00",
   "metadata": {},
   "outputs": [
    {
     "name": "stdout",
     "output_type": "stream",
     "text": [
      "Rohan\n"
     ]
    }
   ],
   "source": [
    "print(students[1].title())"
   ]
  },
  {
   "cell_type": "code",
   "execution_count": null,
   "id": "ddbaeec6",
   "metadata": {},
   "outputs": [],
   "source": [
    "# i want to add 'manasa' in the above list"
   ]
  },
  {
   "cell_type": "code",
   "execution_count": null,
   "id": "f49a0a11",
   "metadata": {},
   "outputs": [],
   "source": []
  },
  {
   "cell_type": "code",
   "execution_count": 14,
   "id": "538d4f93",
   "metadata": {},
   "outputs": [],
   "source": [
    "students.append('manasa')"
   ]
  },
  {
   "cell_type": "code",
   "execution_count": 15,
   "id": "ecfd1a8d",
   "metadata": {},
   "outputs": [
    {
     "name": "stdout",
     "output_type": "stream",
     "text": [
      "['anil', 'rohan', 'kareem', 'mohan', 'manasa']\n"
     ]
    }
   ],
   "source": [
    "print(students)"
   ]
  },
  {
   "cell_type": "code",
   "execution_count": null,
   "id": "bd40841e",
   "metadata": {},
   "outputs": [],
   "source": [
    "# i want to add 'madhu' to 2nd index position"
   ]
  },
  {
   "cell_type": "code",
   "execution_count": 16,
   "id": "71bafa36",
   "metadata": {},
   "outputs": [],
   "source": [
    "students.insert(2,'madhu')"
   ]
  },
  {
   "cell_type": "code",
   "execution_count": 17,
   "id": "e2d3c81b",
   "metadata": {},
   "outputs": [
    {
     "name": "stdout",
     "output_type": "stream",
     "text": [
      "['anil', 'rohan', 'madhu', 'kareem', 'mohan', 'manasa']\n"
     ]
    }
   ],
   "source": [
    "print(students)"
   ]
  },
  {
   "cell_type": "code",
   "execution_count": 19,
   "id": "8b46509a",
   "metadata": {},
   "outputs": [
    {
     "name": "stdout",
     "output_type": "stream",
     "text": [
      "Madhu\n"
     ]
    }
   ],
   "source": [
    "print(students[2].title())"
   ]
  },
  {
   "cell_type": "code",
   "execution_count": null,
   "id": "7a1f9c40",
   "metadata": {},
   "outputs": [],
   "source": [
    "# how to add elements to the list\n",
    "# how to edit elements to the list\n",
    "# how to delete elements to the list"
   ]
  },
  {
   "cell_type": "code",
   "execution_count": 20,
   "id": "95f1baec",
   "metadata": {},
   "outputs": [
    {
     "name": "stdout",
     "output_type": "stream",
     "text": [
      "['anil', 'rohan', 'madhu', 'kareem', 'mohan', 'manasa']\n"
     ]
    }
   ],
   "source": [
    "print(students)"
   ]
  },
  {
   "cell_type": "code",
   "execution_count": null,
   "id": "908880cf",
   "metadata": {},
   "outputs": [],
   "source": [
    "# i want to change the name of madhu to maha"
   ]
  },
  {
   "cell_type": "code",
   "execution_count": null,
   "id": "8cd94dbf",
   "metadata": {},
   "outputs": [],
   "source": [
    "Edit"
   ]
  },
  {
   "cell_type": "code",
   "execution_count": 21,
   "id": "d1285330",
   "metadata": {},
   "outputs": [],
   "source": [
    "students[2]=\"maha\""
   ]
  },
  {
   "cell_type": "code",
   "execution_count": 22,
   "id": "13598517",
   "metadata": {},
   "outputs": [
    {
     "name": "stdout",
     "output_type": "stream",
     "text": [
      "['anil', 'rohan', 'maha', 'kareem', 'mohan', 'manasa']\n"
     ]
    }
   ],
   "source": [
    "print(students)"
   ]
  },
  {
   "cell_type": "code",
   "execution_count": null,
   "id": "11edf69b",
   "metadata": {},
   "outputs": [],
   "source": [
    "Delete:\n",
    "  1) Temporary Deleting\n",
    "  2) Permanent Deleting"
   ]
  },
  {
   "cell_type": "code",
   "execution_count": null,
   "id": "8bf25091",
   "metadata": {},
   "outputs": [],
   "source": [
    "1) pop()---Temporary Deleting"
   ]
  },
  {
   "cell_type": "code",
   "execution_count": null,
   "id": "c26edd3c",
   "metadata": {},
   "outputs": [],
   "source": []
  },
  {
   "cell_type": "code",
   "execution_count": 23,
   "id": "ae7f21f7",
   "metadata": {},
   "outputs": [],
   "source": [
    "x=students.pop()"
   ]
  },
  {
   "cell_type": "code",
   "execution_count": 24,
   "id": "0ed5e8b5",
   "metadata": {},
   "outputs": [
    {
     "name": "stdout",
     "output_type": "stream",
     "text": [
      "['anil', 'rohan', 'maha', 'kareem', 'mohan']\n"
     ]
    }
   ],
   "source": [
    "print(students)"
   ]
  },
  {
   "cell_type": "code",
   "execution_count": 25,
   "id": "c1f8e558",
   "metadata": {},
   "outputs": [
    {
     "name": "stdout",
     "output_type": "stream",
     "text": [
      "manasa\n"
     ]
    }
   ],
   "source": [
    "print(x)"
   ]
  },
  {
   "cell_type": "code",
   "execution_count": null,
   "id": "af36b5a8",
   "metadata": {},
   "outputs": [],
   "source": []
  },
  {
   "cell_type": "code",
   "execution_count": null,
   "id": "81b6b5c5",
   "metadata": {},
   "outputs": [],
   "source": [
    "2) Permanent delete----del"
   ]
  },
  {
   "cell_type": "code",
   "execution_count": 26,
   "id": "25c4bebf",
   "metadata": {},
   "outputs": [
    {
     "name": "stdout",
     "output_type": "stream",
     "text": [
      "['anil', 'rohan', 'maha', 'kareem', 'mohan']\n"
     ]
    }
   ],
   "source": [
    "print(students)"
   ]
  },
  {
   "cell_type": "code",
   "execution_count": 28,
   "id": "6ddf8943",
   "metadata": {},
   "outputs": [],
   "source": [
    "del students[2]"
   ]
  },
  {
   "cell_type": "code",
   "execution_count": 29,
   "id": "47a6fe4b",
   "metadata": {},
   "outputs": [
    {
     "name": "stdout",
     "output_type": "stream",
     "text": [
      "['anil', 'rohan', 'kareem', 'mohan']\n"
     ]
    }
   ],
   "source": [
    "print(students)"
   ]
  },
  {
   "cell_type": "code",
   "execution_count": 30,
   "id": "e390d2a4",
   "metadata": {},
   "outputs": [],
   "source": [
    "del students[0]"
   ]
  },
  {
   "cell_type": "code",
   "execution_count": 32,
   "id": "bc4a92f1",
   "metadata": {},
   "outputs": [
    {
     "name": "stdout",
     "output_type": "stream",
     "text": [
      "['rohan', 'kareem', 'mohan']\n"
     ]
    }
   ],
   "source": [
    "print(students)"
   ]
  },
  {
   "cell_type": "code",
   "execution_count": null,
   "id": "631f5764",
   "metadata": {},
   "outputs": [],
   "source": []
  }
 ],
 "metadata": {
  "kernelspec": {
   "display_name": "Python 3 (ipykernel)",
   "language": "python",
   "name": "python3"
  },
  "language_info": {
   "codemirror_mode": {
    "name": "ipython",
    "version": 3
   },
   "file_extension": ".py",
   "mimetype": "text/x-python",
   "name": "python",
   "nbconvert_exporter": "python",
   "pygments_lexer": "ipython3",
   "version": "3.10.9"
  }
 },
 "nbformat": 4,
 "nbformat_minor": 5
}
